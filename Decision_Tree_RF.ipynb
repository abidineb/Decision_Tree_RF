{
 "cells": [
  {
   "cell_type": "markdown",
   "id": "54d4aa2e",
   "metadata": {},
   "source": [
    "# Decision Tree & Random Forest "
   ]
  },
  {
   "cell_type": "markdown",
   "id": "eb9712e8",
   "metadata": {},
   "source": [
    "We are going to predict once again if a passenger on the Titanic is going to survive or not using Decision trees and Random forests this time"
   ]
  },
  {
   "cell_type": "code",
   "execution_count": 21,
   "id": "b15bcdc0",
   "metadata": {},
   "outputs": [],
   "source": [
    "# survival:    Survival \n",
    "# PassengerId: Unique Id of a passenger. \n",
    "# pclass:    Ticket class     \n",
    "# sex:    Sex     \n",
    "# Age:    Age in years     \n",
    "# sibsp:    # of siblings / spouses aboard the Titanic     \n",
    "# parch:    # of parents / children aboard the Titanic     \n",
    "# ticket:    Ticket number     \n",
    "# fare:    Passenger fare     \n",
    "# cabin:    Cabin number     \n",
    "# embarked:    Port of Embarkation\n",
    "\n",
    "# importing  packages\n",
    "import pandas as pd\n",
    "import seaborn as sns;\n",
    "from sklearn.preprocessing import LabelEncoder\n",
    "# making data frame from csv file \n",
    "df=pd.read_csv('titanic-passengers.csv', sep=';')\n"
   ]
  },
  {
   "cell_type": "markdown",
   "id": "3598920f",
   "metadata": {},
   "source": [
    "# Data processing"
   ]
  },
  {
   "cell_type": "code",
   "execution_count": 22,
   "id": "2413f659",
   "metadata": {},
   "outputs": [
    {
     "data": {
      "text/html": [
       "<div>\n",
       "<style scoped>\n",
       "    .dataframe tbody tr th:only-of-type {\n",
       "        vertical-align: middle;\n",
       "    }\n",
       "\n",
       "    .dataframe tbody tr th {\n",
       "        vertical-align: top;\n",
       "    }\n",
       "\n",
       "    .dataframe thead th {\n",
       "        text-align: right;\n",
       "    }\n",
       "</style>\n",
       "<table border=\"1\" class=\"dataframe\">\n",
       "  <thead>\n",
       "    <tr style=\"text-align: right;\">\n",
       "      <th></th>\n",
       "      <th>Survived</th>\n",
       "      <th>Pclass</th>\n",
       "      <th>Sex</th>\n",
       "      <th>Age</th>\n",
       "      <th>SibSp</th>\n",
       "      <th>Parch</th>\n",
       "      <th>Fare</th>\n",
       "    </tr>\n",
       "  </thead>\n",
       "  <tbody>\n",
       "    <tr>\n",
       "      <th>0</th>\n",
       "      <td>0</td>\n",
       "      <td>2</td>\n",
       "      <td>1</td>\n",
       "      <td>28.0</td>\n",
       "      <td>0</td>\n",
       "      <td>0</td>\n",
       "      <td>13.0000</td>\n",
       "    </tr>\n",
       "    <tr>\n",
       "      <th>1</th>\n",
       "      <td>0</td>\n",
       "      <td>3</td>\n",
       "      <td>1</td>\n",
       "      <td>25.0</td>\n",
       "      <td>0</td>\n",
       "      <td>0</td>\n",
       "      <td>7.6500</td>\n",
       "    </tr>\n",
       "    <tr>\n",
       "      <th>2</th>\n",
       "      <td>0</td>\n",
       "      <td>3</td>\n",
       "      <td>1</td>\n",
       "      <td>20.0</td>\n",
       "      <td>0</td>\n",
       "      <td>0</td>\n",
       "      <td>7.8542</td>\n",
       "    </tr>\n",
       "    <tr>\n",
       "      <th>3</th>\n",
       "      <td>0</td>\n",
       "      <td>3</td>\n",
       "      <td>0</td>\n",
       "      <td>29.0</td>\n",
       "      <td>0</td>\n",
       "      <td>4</td>\n",
       "      <td>21.0750</td>\n",
       "    </tr>\n",
       "    <tr>\n",
       "      <th>4</th>\n",
       "      <td>0</td>\n",
       "      <td>1</td>\n",
       "      <td>1</td>\n",
       "      <td>31.0</td>\n",
       "      <td>1</td>\n",
       "      <td>0</td>\n",
       "      <td>52.0000</td>\n",
       "    </tr>\n",
       "    <tr>\n",
       "      <th>5</th>\n",
       "      <td>0</td>\n",
       "      <td>3</td>\n",
       "      <td>1</td>\n",
       "      <td>37.0</td>\n",
       "      <td>2</td>\n",
       "      <td>0</td>\n",
       "      <td>7.9250</td>\n",
       "    </tr>\n",
       "    <tr>\n",
       "      <th>6</th>\n",
       "      <td>0</td>\n",
       "      <td>3</td>\n",
       "      <td>1</td>\n",
       "      <td>19.0</td>\n",
       "      <td>0</td>\n",
       "      <td>0</td>\n",
       "      <td>14.5000</td>\n",
       "    </tr>\n",
       "    <tr>\n",
       "      <th>7</th>\n",
       "      <td>1</td>\n",
       "      <td>3</td>\n",
       "      <td>0</td>\n",
       "      <td>1.0</td>\n",
       "      <td>0</td>\n",
       "      <td>2</td>\n",
       "      <td>15.7417</td>\n",
       "    </tr>\n",
       "  </tbody>\n",
       "</table>\n",
       "</div>"
      ],
      "text/plain": [
       "   Survived  Pclass  Sex   Age  SibSp  Parch     Fare\n",
       "0         0       2    1  28.0      0      0  13.0000\n",
       "1         0       3    1  25.0      0      0   7.6500\n",
       "2         0       3    1  20.0      0      0   7.8542\n",
       "3         0       3    0  29.0      0      4  21.0750\n",
       "4         0       1    1  31.0      1      0  52.0000\n",
       "5         0       3    1  37.0      2      0   7.9250\n",
       "6         0       3    1  19.0      0      0  14.5000\n",
       "7         1       3    0   1.0      0      2  15.7417"
      ]
     },
     "execution_count": 22,
     "metadata": {},
     "output_type": "execute_result"
    }
   ],
   "source": [
    "df['Age'] = df['Age'].fillna((df['Age'].median()))\n",
    "df[\"Embarked\"].fillna(\"S\", inplace=True)\n",
    "# We remove some columns that we are not going to use for our model.\n",
    "df.drop(['PassengerId', 'Embarked','Name','Ticket','Cabin'],axis=1,inplace=True)\n",
    "encoder = LabelEncoder()\n",
    "df['Survived'] = encoder.fit_transform(df['Survived'])\n",
    "df['Sex'] = encoder.fit_transform(df['Sex'])\n",
    "df.head(8)"
   ]
  },
  {
   "cell_type": "code",
   "execution_count": 23,
   "id": "88787fee",
   "metadata": {},
   "outputs": [
    {
     "data": {
      "text/plain": [
       "(891, 7)"
      ]
     },
     "execution_count": 23,
     "metadata": {},
     "output_type": "execute_result"
    }
   ],
   "source": [
    "df.shape"
   ]
  },
  {
   "cell_type": "markdown",
   "id": "6081c609",
   "metadata": {},
   "source": [
    "# Train and build Classifier"
   ]
  },
  {
   "cell_type": "code",
   "execution_count": 24,
   "id": "b0723810",
   "metadata": {},
   "outputs": [],
   "source": [
    "# We will use train_test_split from cross_validation module to split our data. \n",
    "# 70% of the data will be training data and %30 will be testing data.\n",
    "#from sklearn.cross_validation import train_test_split\n",
    "from sklearn.model_selection import train_test_split\n",
    "# X will contain all the features and y will contain the target variable\n",
    "# # create X (features) and y (response)\n",
    "train=df\n",
    "X = train.drop(\"Survived\",axis=1)\n",
    "y = train[\"Survived\"]\n",
    "X_train, X_test, y_train, y_test = train_test_split(X, y, test_size=0.3, random_state=20) "
   ]
  },
  {
   "cell_type": "code",
   "execution_count": 8,
   "id": "8721f10e",
   "metadata": {},
   "outputs": [
    {
     "data": {
      "text/plain": [
       "(623, 6)"
      ]
     },
     "execution_count": 8,
     "metadata": {},
     "output_type": "execute_result"
    }
   ],
   "source": [
    "X_train.shape"
   ]
  },
  {
   "cell_type": "code",
   "execution_count": null,
   "id": "08c291c4",
   "metadata": {},
   "outputs": [],
   "source": [
    "#import matplotlib.pyplot as plt\n",
    "#from sklearn.datasets import make_blobs\n",
    "#X, y = make_blobs(n_samples=300, centers=4,\n",
    "#                  random_state=20, cluster_std=1.0)\n",
    "#plt.scatter(X[:, 0], X[:, 1], c=y, s=50, cmap='rainbow');"
   ]
  },
  {
   "cell_type": "markdown",
   "id": "363337a6",
   "metadata": {},
   "source": [
    "# Build Decision Tree Classifier"
   ]
  },
  {
   "cell_type": "code",
   "execution_count": 36,
   "id": "ccb29d51",
   "metadata": {},
   "outputs": [
    {
     "name": "stdout",
     "output_type": "stream",
     "text": [
      "DecisionTreeClassifier accuracy score: 0.7947761194029851\n"
     ]
    }
   ],
   "source": [
    "from sklearn.tree import DecisionTreeClassifier\n",
    "import pandas as pd\n",
    "from sklearn.preprocessing import LabelEncoder\n",
    "from sklearn.tree import DecisionTreeClassifier, export_graphviz\n",
    "from sklearn.model_selection import train_test_split\n",
    "from sklearn.metrics import accuracy_score\n",
    "import matplotlib.pyplot as plt\n",
    "from sklearn import datasets\n",
    "from sklearn import tree\n",
    "\n",
    "# Creating a DecisionTreeClassifier.\n",
    "# The criterion parameter indicates the measure used (possible values: 'gini' for the Gini index and\n",
    "# 'entropy' for the information gain).\n",
    "# The min_samples_leaf parameter indicates the minimum of objects required at a leaf node.\n",
    "# The min_samples_split parameter indicates the minimum number of objects required to split an internal node.\n",
    "# The max_depth parameter controls the maximum tree depth. Setting this parameter to None will grow the\n",
    "# tree until all leaves are pure or until all leaves contain less than min_samples_split samples.\n",
    "\n",
    "# Create Decision Tree classifer object\n",
    "clf_tree = DecisionTreeClassifier(criterion='gini', max_depth=2, random_state=20)\n",
    "# Train Decision Tree Classifer\n",
    "clf_tree.fit(X_train, y_train)  \n",
    "#Predict the response for test dataset\n",
    "y_pred = clf_tree.predict(X_test)\n",
    "\n",
    "# Accuracy can be computed by comparing actual test set values and predicted values.\n",
    "accuracy = accuracy_score(y_test, y_pred)\n",
    "\n",
    "print('DecisionTreeClassifier accuracy score: {}'.format(accuracy))\n",
    "\n",
    "\n",
    "\n",
    "# Setting random seed.\n",
    "#seed = 10\n",
    "#tree = DecisionTreeClassifier(criterion='gini',\n",
    "#min_samples_leaf=3,\n",
    "#min_samples_split=3,\n",
    "#max_depth=4,\n",
    "#random_state=seed) \n"
   ]
  },
  {
   "cell_type": "code",
   "execution_count": 39,
   "id": "ba862fc4",
   "metadata": {},
   "outputs": [
    {
     "data": {
      "text/plain": [
       "623"
      ]
     },
     "execution_count": 39,
     "metadata": {},
     "output_type": "execute_result"
    }
   ],
   "source": [
    "len(X_train)\n",
    "# y_pred"
   ]
  },
  {
   "cell_type": "markdown",
   "id": "e79a2252",
   "metadata": {},
   "source": [
    "In this work, we learned about how to create a visualization diagram of decision tree using two different techniques (Sklearn.tree plot_tree method) and GraphViz method."
   ]
  },
  {
   "cell_type": "markdown",
   "id": "4ef28477",
   "metadata": {},
   "source": [
    "# Method1: Plot your decision tree and try to read the tree branches "
   ]
  },
  {
   "cell_type": "code",
   "execution_count": 27,
   "id": "74f0a943",
   "metadata": {
    "scrolled": true
   },
   "outputs": [
    {
     "data": {
      "image/png": "[encoded data removed]",
      "text/plain": [
       "<Figure size 720x720 with 1 Axes>"
      ]
     },
     "metadata": {
      "needs_background": "light"
     },
     "output_type": "display_data"
    }
   ],
   "source": [
    "# Plot the decision tree\n",
    "#\n",
    "fig, ax = plt.subplots(figsize=(10, 10))\n",
    "tree.plot_tree(clf_tree, fontsize=10)\n",
    "plt.show()"
   ]
  },
  {
   "cell_type": "markdown",
   "id": "6f29ac6a",
   "metadata": {},
   "source": [
    "Return the depth of the decision tree."
   ]
  },
  {
   "cell_type": "code",
   "execution_count": 33,
   "id": "f75a4d92",
   "metadata": {},
   "outputs": [
    {
     "data": {
      "text/plain": [
       "2"
      ]
     },
     "execution_count": 33,
     "metadata": {},
     "output_type": "execute_result"
    }
   ],
   "source": [
    "clf_tree.get_depth()"
   ]
  },
  {
   "cell_type": "markdown",
   "id": "a14c7c05",
   "metadata": {},
   "source": [
    "Return the number of leaves of the decision tree."
   ]
  },
  {
   "cell_type": "code",
   "execution_count": 34,
   "id": "bd0bab51",
   "metadata": {},
   "outputs": [
    {
     "data": {
      "text/plain": [
       "4"
      ]
     },
     "execution_count": 34,
     "metadata": {},
     "output_type": "execute_result"
    }
   ],
   "source": [
    "clf_tree.get_n_leaves()"
   ]
  },
  {
   "cell_type": "markdown",
   "id": "95c1d662",
   "metadata": {},
   "source": [
    "# Conclude a prediction manually"
   ]
  },
  {
   "cell_type": "markdown",
   "id": "d760795d",
   "metadata": {},
   "source": [
    "Now, based on this data set, Python can create a decision tree that can be used to decide if any new shows are worth attending to. The decision tree uses your earlier decisions to calculate the odds to survive or not.\n",
    "\n",
    "Rank\n",
    "Rank <= 0.5 means that every passenger with a rank of 0.5 or lower will follow the True arrow (to the left), and the rest will follow the False arrow (to the right).\n",
    "\n",
    "gini = 0.494 refers to the quality of the split, and is always a number between 0.0 and 0.5, where 0.0 would mean all of the samples got the same result, and 0.5 would mean that the split is done exactly in the middle.\n",
    "\n",
    "samples = 623 means that there are 623 passengers left at this point in the decision, which is all of them since this is the first step.\n",
    "\n",
    "value =[383,240] means that of these 623 passengers, 383 will survive \"True\", and 240 will not survive \"False\".\n",
    "\n",
    "Gini = 1 - (x/n)2 - (y/n)2\n",
    "\n",
    "1 - (240/623)2 - (383/623)2 = 0.474\n",
    "\n",
    "True :\n",
    "Rank <= 2.5 \n",
    "gini = 0.406 \n",
    "samples = 219 \n",
    "value =[62,157] \n",
    "\n",
    "1 - (157/219)2 - (62/219)2 = 0.406\n",
    "\n",
    "False :\n",
    "Rank <= 13 \n",
    "gini = 0.326 \n",
    "samples = 404 \n",
    "value =[321,83] \n",
    "\n",
    "1 - (83/404)2 - (321/404)2 = 0.326\n"
   ]
  },
  {
   "cell_type": "markdown",
   "id": "97770585",
   "metadata": {},
   "source": [
    "# Method2: Plot your decision tree and try to read the tree branches "
   ]
  },
  {
   "cell_type": "code",
   "execution_count": null,
   "id": "0de731a8",
   "metadata": {},
   "outputs": [],
   "source": [
    "# Installation of graphviz\n",
    "import os\n",
    "# os.environ[\"PATH\"] += os.pathsep + 'C:/Program Files (x86)/Graphviz2.38/bin'\n",
    "os.environ[\"PATH\"] += os.pathsep + 'D:/Graphviz/bin'\n",
    "pip install graphviz"
   ]
  },
  {
   "cell_type": "code",
   "execution_count": 19,
   "id": "7d933c06",
   "metadata": {},
   "outputs": [
    {
     "data": {
      "image/svg+xml": [
       "<?xml version=\"1.0\" encoding=\"UTF-8\" standalone=\"no\"?>\n",
       "<!DOCTYPE svg PUBLIC \"-//W3C//DTD SVG 1.1//EN\"\n",
       " \"http://www.w3.org/Graphics/SVG/1.1/DTD/svg11.dtd\">\n",
       "<!-- Generated by graphviz version 2.50.0 (20211204.2007)\n",
       " -->\n",
       "<!-- Title: Tree Pages: 1 -->\n",
       "<svg width=\"489pt\" height=\"269pt\"\n",
       " viewBox=\"0.00 0.00 488.50 269.00\" xmlns=\"http://www.w3.org/2000/svg\" xmlns:xlink=\"http://www.w3.org/1999/xlink\">\n",
       "<g id=\"graph0\" class=\"graph\" transform=\"scale(1 1) rotate(0) translate(4 265)\">\n",
       "<title>Tree</title>\n",
       "<polygon fill=\"white\" stroke=\"transparent\" points=\"-4,4 -4,-265 484.5,-265 484.5,4 -4,4\"/>\n",
       "<!-- 0 -->\n",
       "<g id=\"node1\" class=\"node\">\n",
       "<title>0</title>\n",
       "<polygon fill=\"none\" stroke=\"black\" points=\"295,-261 177,-261 177,-193 295,-193 295,-261\"/>\n",
       "<text text-anchor=\"middle\" x=\"236\" y=\"-245.8\" font-family=\"Times New Roman,serif\" font-size=\"14.00\">X[1] &lt;= 0.5</text>\n",
       "<text text-anchor=\"middle\" x=\"236\" y=\"-230.8\" font-family=\"Times New Roman,serif\" font-size=\"14.00\">gini = 0.474</text>\n",
       "<text text-anchor=\"middle\" x=\"236\" y=\"-215.8\" font-family=\"Times New Roman,serif\" font-size=\"14.00\">samples = 623</text>\n",
       "<text text-anchor=\"middle\" x=\"236\" y=\"-200.8\" font-family=\"Times New Roman,serif\" font-size=\"14.00\">value = [383, 240]</text>\n",
       "</g>\n",
       "<!-- 1 -->\n",
       "<g id=\"node2\" class=\"node\">\n",
       "<title>1</title>\n",
       "<polygon fill=\"none\" stroke=\"black\" points=\"227.5,-157 116.5,-157 116.5,-89 227.5,-89 227.5,-157\"/>\n",
       "<text text-anchor=\"middle\" x=\"172\" y=\"-141.8\" font-family=\"Times New Roman,serif\" font-size=\"14.00\">X[0] &lt;= 2.5</text>\n",
       "<text text-anchor=\"middle\" x=\"172\" y=\"-126.8\" font-family=\"Times New Roman,serif\" font-size=\"14.00\">gini = 0.406</text>\n",
       "<text text-anchor=\"middle\" x=\"172\" y=\"-111.8\" font-family=\"Times New Roman,serif\" font-size=\"14.00\">samples = 219</text>\n",
       "<text text-anchor=\"middle\" x=\"172\" y=\"-96.8\" font-family=\"Times New Roman,serif\" font-size=\"14.00\">value = [62, 157]</text>\n",
       "</g>\n",
       "<!-- 0&#45;&gt;1 -->\n",
       "<g id=\"edge1\" class=\"edge\">\n",
       "<title>0&#45;&gt;1</title>\n",
       "<path fill=\"none\" stroke=\"black\" d=\"M215.22,-192.88C209.8,-184.24 203.89,-174.82 198.22,-165.79\"/>\n",
       "<polygon fill=\"black\" stroke=\"black\" points=\"201.17,-163.91 192.89,-157.3 195.24,-167.63 201.17,-163.91\"/>\n",
       "<text text-anchor=\"middle\" x=\"187.32\" y=\"-177.97\" font-family=\"Times New Roman,serif\" font-size=\"14.00\">True</text>\n",
       "</g>\n",
       "<!-- 4 -->\n",
       "<g id=\"node5\" class=\"node\">\n",
       "<title>4</title>\n",
       "<polygon fill=\"none\" stroke=\"black\" points=\"356.5,-157 245.5,-157 245.5,-89 356.5,-89 356.5,-157\"/>\n",
       "<text text-anchor=\"middle\" x=\"301\" y=\"-141.8\" font-family=\"Times New Roman,serif\" font-size=\"14.00\">X[2] &lt;= 13.0</text>\n",
       "<text text-anchor=\"middle\" x=\"301\" y=\"-126.8\" font-family=\"Times New Roman,serif\" font-size=\"14.00\">gini = 0.326</text>\n",
       "<text text-anchor=\"middle\" x=\"301\" y=\"-111.8\" font-family=\"Times New Roman,serif\" font-size=\"14.00\">samples = 404</text>\n",
       "<text text-anchor=\"middle\" x=\"301\" y=\"-96.8\" font-family=\"Times New Roman,serif\" font-size=\"14.00\">value = [321, 83]</text>\n",
       "</g>\n",
       "<!-- 0&#45;&gt;4 -->\n",
       "<g id=\"edge4\" class=\"edge\">\n",
       "<title>0&#45;&gt;4</title>\n",
       "<path fill=\"none\" stroke=\"black\" d=\"M257.1,-192.88C262.61,-184.24 268.62,-174.82 274.37,-165.79\"/>\n",
       "<polygon fill=\"black\" stroke=\"black\" points=\"277.36,-167.61 279.78,-157.3 271.45,-163.85 277.36,-167.61\"/>\n",
       "<text text-anchor=\"middle\" x=\"285.19\" y=\"-178.01\" font-family=\"Times New Roman,serif\" font-size=\"14.00\">False</text>\n",
       "</g>\n",
       "<!-- 2 -->\n",
       "<g id=\"node3\" class=\"node\">\n",
       "<title>2</title>\n",
       "<polygon fill=\"none\" stroke=\"black\" points=\"104,-53 0,-53 0,0 104,0 104,-53\"/>\n",
       "<text text-anchor=\"middle\" x=\"52\" y=\"-37.8\" font-family=\"Times New Roman,serif\" font-size=\"14.00\">gini = 0.068</text>\n",
       "<text text-anchor=\"middle\" x=\"52\" y=\"-22.8\" font-family=\"Times New Roman,serif\" font-size=\"14.00\">samples = 114</text>\n",
       "<text text-anchor=\"middle\" x=\"52\" y=\"-7.8\" font-family=\"Times New Roman,serif\" font-size=\"14.00\">value = [4, 110]</text>\n",
       "</g>\n",
       "<!-- 1&#45;&gt;2 -->\n",
       "<g id=\"edge2\" class=\"edge\">\n",
       "<title>1&#45;&gt;2</title>\n",
       "<path fill=\"none\" stroke=\"black\" d=\"M130.03,-88.95C117.95,-79.43 104.79,-69.07 92.78,-59.62\"/>\n",
       "<polygon fill=\"black\" stroke=\"black\" points=\"94.7,-56.67 84.68,-53.24 90.37,-62.17 94.7,-56.67\"/>\n",
       "</g>\n",
       "<!-- 3 -->\n",
       "<g id=\"node4\" class=\"node\">\n",
       "<title>3</title>\n",
       "<polygon fill=\"none\" stroke=\"black\" points=\"226,-53 122,-53 122,0 226,0 226,-53\"/>\n",
       "<text text-anchor=\"middle\" x=\"174\" y=\"-37.8\" font-family=\"Times New Roman,serif\" font-size=\"14.00\">gini = 0.495</text>\n",
       "<text text-anchor=\"middle\" x=\"174\" y=\"-22.8\" font-family=\"Times New Roman,serif\" font-size=\"14.00\">samples = 105</text>\n",
       "<text text-anchor=\"middle\" x=\"174\" y=\"-7.8\" font-family=\"Times New Roman,serif\" font-size=\"14.00\">value = [58, 47]</text>\n",
       "</g>\n",
       "<!-- 1&#45;&gt;3 -->\n",
       "<g id=\"edge3\" class=\"edge\">\n",
       "<title>1&#45;&gt;3</title>\n",
       "<path fill=\"none\" stroke=\"black\" d=\"M172.7,-88.95C172.87,-80.72 173.06,-71.85 173.24,-63.48\"/>\n",
       "<polygon fill=\"black\" stroke=\"black\" points=\"176.74,-63.31 173.46,-53.24 169.74,-63.16 176.74,-63.31\"/>\n",
       "</g>\n",
       "<!-- 5 -->\n",
       "<g id=\"node6\" class=\"node\">\n",
       "<title>5</title>\n",
       "<polygon fill=\"none\" stroke=\"black\" points=\"351,-53 247,-53 247,0 351,0 351,-53\"/>\n",
       "<text text-anchor=\"middle\" x=\"299\" y=\"-37.8\" font-family=\"Times New Roman,serif\" font-size=\"14.00\">gini = 0.492</text>\n",
       "<text text-anchor=\"middle\" x=\"299\" y=\"-22.8\" font-family=\"Times New Roman,serif\" font-size=\"14.00\">samples = 32</text>\n",
       "<text text-anchor=\"middle\" x=\"299\" y=\"-7.8\" font-family=\"Times New Roman,serif\" font-size=\"14.00\">value = [14, 18]</text>\n",
       "</g>\n",
       "<!-- 4&#45;&gt;5 -->\n",
       "<g id=\"edge5\" class=\"edge\">\n",
       "<title>4&#45;&gt;5</title>\n",
       "<path fill=\"none\" stroke=\"black\" d=\"M300.3,-88.95C300.13,-80.72 299.94,-71.85 299.76,-63.48\"/>\n",
       "<polygon fill=\"black\" stroke=\"black\" points=\"303.26,-63.16 299.54,-53.24 296.26,-63.31 303.26,-63.16\"/>\n",
       "</g>\n",
       "<!-- 6 -->\n",
       "<g id=\"node7\" class=\"node\">\n",
       "<title>6</title>\n",
       "<polygon fill=\"none\" stroke=\"black\" points=\"480.5,-53 369.5,-53 369.5,0 480.5,0 480.5,-53\"/>\n",
       "<text text-anchor=\"middle\" x=\"425\" y=\"-37.8\" font-family=\"Times New Roman,serif\" font-size=\"14.00\">gini = 0.288</text>\n",
       "<text text-anchor=\"middle\" x=\"425\" y=\"-22.8\" font-family=\"Times New Roman,serif\" font-size=\"14.00\">samples = 372</text>\n",
       "<text text-anchor=\"middle\" x=\"425\" y=\"-7.8\" font-family=\"Times New Roman,serif\" font-size=\"14.00\">value = [307, 65]</text>\n",
       "</g>\n",
       "<!-- 4&#45;&gt;6 -->\n",
       "<g id=\"edge6\" class=\"edge\">\n",
       "<title>4&#45;&gt;6</title>\n",
       "<path fill=\"none\" stroke=\"black\" d=\"M344.37,-88.95C356.97,-79.34 370.71,-68.87 383.21,-59.34\"/>\n",
       "<polygon fill=\"black\" stroke=\"black\" points=\"385.4,-62.08 391.23,-53.24 381.15,-56.51 385.4,-62.08\"/>\n",
       "</g>\n",
       "</g>\n",
       "</svg>\n"
      ],
      "text/plain": [
       "<graphviz.sources.Source at 0xb9c9670>"
      ]
     },
     "execution_count": 19,
     "metadata": {},
     "output_type": "execute_result"
    }
   ],
   "source": [
    "# Decision tree visualization using Graphviz (Max depth = 2)\n",
    "\n",
    "import graphviz\n",
    "from sklearn.tree import DecisionTreeClassifier, export_graphviz\n",
    "\n",
    "# graph_data = export_graphviz(tree, out_file=None)\n",
    "graph_data = export_graphviz(clf_tree, out_file=None)\n",
    "# Generating plot.\n",
    "graph = graphviz.Source(graph_data)\n",
    "# graph.render(plot_title)\n",
    "graph\n",
    "\n",
    "#feature_names=dataframe.drop(label_col, axis=1).columns,\n",
    "#class_names=label_names,\n",
    "#filled=True,\n",
    "#rounded=True,\n",
    "#out_file=None)\n"
   ]
  },
  {
   "cell_type": "code",
   "execution_count": 40,
   "id": "19e585fb",
   "metadata": {},
   "outputs": [
    {
     "name": "stdout",
     "output_type": "stream",
     "text": [
      "|--- feature_1 <= 0.50\n",
      "|   |--- feature_0 <= 2.50\n",
      "|   |   |--- class: 1\n",
      "|   |--- feature_0 >  2.50\n",
      "|   |   |--- class: 0\n",
      "|--- feature_1 >  0.50\n",
      "|   |--- feature_2 <= 13.00\n",
      "|   |   |--- class: 1\n",
      "|   |--- feature_2 >  13.00\n",
      "|   |   |--- class: 0\n",
      "\n"
     ]
    }
   ],
   "source": [
    "# Build a text report showing the rules of a decision tree.\n",
    "# Note that backwards compatibility may not be supported.\n",
    "\n",
    "text_representation = tree.export_text(clf_tree, max_depth=3)\n",
    "print(text_representation)"
   ]
  },
  {
   "cell_type": "markdown",
   "id": "d34ab971",
   "metadata": {},
   "source": [
    "# Change the decision tree parameters(change at least two parameters:criterion and max_depth)"
   ]
  },
  {
   "cell_type": "markdown",
   "id": "f63fa9d8",
   "metadata": {},
   "source": [
    "- Criterion : optional (default=”gini”) or Choose attribute selection measure: This parameter allows us to use the different-different attribute selection measure. Supported criteria are “gini” for the Gini index and “entropy” for the information gain.\n",
    "- Max_depth : int or None, optional (default=None) or Maximum Depth of a Tree: The maximum depth of the tree. If None, then nodes are expanded until all the leaves contain less than min_samples_split samples. The higher value of maximum depth causes overfitting, and a lower value causes underfitting"
   ]
  },
  {
   "cell_type": "code",
   "execution_count": 40,
   "id": "97922e28",
   "metadata": {},
   "outputs": [
    {
     "name": "stdout",
     "output_type": "stream",
     "text": [
      "DecisionTreeClassifier accuracy score: 0.7910447761194029\n"
     ]
    }
   ],
   "source": [
    "# criterion='entropy', max_depth=2\n",
    "clf_tree = DecisionTreeClassifier(criterion='entropy', max_depth=2, random_state=20)\n",
    "clf_tree.fit(X_train, y_train)  # Train\n",
    "y_pred = clf_tree.predict(X_test)\n",
    "\n",
    "# Accuracy can be computed by comparing actual test set values and predicted values.\n",
    "accuracy = accuracy_score(y_test, y_pred)\n",
    "\n",
    "print('DecisionTreeClassifier accuracy score: {}'.format(accuracy))"
   ]
  },
  {
   "cell_type": "code",
   "execution_count": 41,
   "id": "eddd1305",
   "metadata": {},
   "outputs": [
    {
     "name": "stdout",
     "output_type": "stream",
     "text": [
      "DecisionTreeClassifier accuracy score: 0.8208955223880597\n"
     ]
    }
   ],
   "source": [
    "# criterion='gini', max_depth=5\n",
    "clf_tree = DecisionTreeClassifier(criterion='gini', max_depth=5, random_state=20)\n",
    "clf_tree.fit(X_train, y_train)  # Train\n",
    "y_pred = clf_tree.predict(X_test)\n",
    "\n",
    "# Accuracy can be computed by comparing actual test set values and predicted values.\n",
    "accuracy = accuracy_score(y_test, y_pred)\n",
    "\n",
    "print('DecisionTreeClassifier accuracy score: {}'.format(accuracy))"
   ]
  },
  {
   "cell_type": "code",
   "execution_count": 42,
   "id": "e2cc485a",
   "metadata": {},
   "outputs": [
    {
     "name": "stdout",
     "output_type": "stream",
     "text": [
      "DecisionTreeClassifier accuracy score: 0.8395522388059702\n"
     ]
    }
   ],
   "source": [
    "# criterion='entropy', max_depth=5\n",
    "clf_tree = DecisionTreeClassifier(criterion='entropy', max_depth=5, random_state=20)\n",
    "clf_tree.fit(X_train, y_train)  # Train\n",
    "y_pred = clf_tree.predict(X_test)\n",
    "\n",
    "# Accuracy can be computed by comparing actual test set values and predicted values.\n",
    "accuracy = accuracy_score(y_test, y_pred)\n",
    "\n",
    "print('DecisionTreeClassifier accuracy score: {}'.format(accuracy))"
   ]
  },
  {
   "cell_type": "markdown",
   "id": "7d9b1721",
   "metadata": {},
   "source": [
    "- Comparison between the different combinaisons demonstrates that criterion='entropy', max_depth=5 gives the best results\n",
    "- The obtained results using the 'entropy' criterion are slightly better than 'gini' criterion."
   ]
  },
  {
   "cell_type": "markdown",
   "id": "e1d51d70",
   "metadata": {},
   "source": [
    "# Build Decision Tree Classifier Random forest "
   ]
  },
  {
   "cell_type": "markdown",
   "id": "f4f1be73",
   "metadata": {},
   "source": [
    "# then change the number of estimators"
   ]
  },
  {
   "cell_type": "code",
   "execution_count": 64,
   "id": "1170cfe1",
   "metadata": {},
   "outputs": [
    {
     "name": "stdout",
     "output_type": "stream",
     "text": [
      "Accuracy= 0.8097014925373134\n",
      "Accuracy= 0.8171641791044776\n",
      "Accuracy= 0.8208955223880597\n",
      "Accuracy= 0.8134328358208955\n",
      "Accuracy= 0.8208955223880597\n",
      "Accuracy= 0.8246268656716418\n"
     ]
    }
   ],
   "source": [
    "#Import Random Forest Model\n",
    "from sklearn.ensemble import RandomForestClassifier\n",
    "#Import scikit-learn metrics module for accuracy calculation\n",
    "from sklearn import metrics\n",
    "\n",
    "#Create a Random Forest Classifier\n",
    "n_estimators=[50, 100, 150, 200, 250, 300]\n",
    "\n",
    "Acc=[]\n",
    "for i in range(len(n_estimators)):\n",
    "    clf=RandomForestClassifier(n_estimators[i], random_state=20)\n",
    "    # clf=RandomForestClassifier(n_estimators=150, random_state=20)\n",
    "    #Train the model using the training sets y_pred=clf.predict(X_test)\n",
    "    clf.fit(X_train,y_train)\n",
    "    y_pred=clf.predict(X_test)\n",
    "    # Model Accuracy, how often is the classifier correct?\n",
    "    print(\"Accuracy=\",metrics.accuracy_score(y_test, y_pred))\n",
    "    Acc.append(metrics.accuracy_score(y_test, y_pred))\n"
   ]
  },
  {
   "cell_type": "markdown",
   "id": "8fda5a7e",
   "metadata": {},
   "source": [
    "The best performances is obtained for n_estimators=300 with Accuracy= 82.46%"
   ]
  },
  {
   "cell_type": "markdown",
   "id": "f5185b8b",
   "metadata": {},
   "source": [
    "# Conclusion:\n",
    "Random Forest is suitable for situations when we have a large dataset, and interpretability is not a major concern. Decision trees are much easier to interpret and understand. Since a random forest combines multiple decision trees, it becomes more difficult to interpret. In our dataset (Titanic) the dataset is small, so decision tree is better than Random Forest."
   ]
  }
 ],
 "metadata": {
  "kernelspec": {
   "display_name": "Python 3",
   "language": "python",
   "name": "python3"
  },
  "language_info": {
   "codemirror_mode": {
    "name": "ipython",
    "version": 3
   },
   "file_extension": ".py",
   "mimetype": "text/x-python",
   "name": "python",
   "nbconvert_exporter": "python",
   "pygments_lexer": "ipython3",
   "version": "3.8.8"
  }
 },
 "nbformat": 4,
 "nbformat_minor": 5
}
